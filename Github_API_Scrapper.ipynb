{
  "nbformat": 4,
  "nbformat_minor": 0,
  "metadata": {
    "colab": {
      "provenance": [],
      "authorship_tag": "ABX9TyOgXEt2F87WLBss8OckQO/N",
      "include_colab_link": true
    },
    "kernelspec": {
      "name": "python3",
      "display_name": "Python 3"
    },
    "language_info": {
      "name": "python"
    }
  },
  "cells": [
    {
      "cell_type": "markdown",
      "metadata": {
        "id": "view-in-github",
        "colab_type": "text"
      },
      "source": [
        "<a href=\"https://colab.research.google.com/github/Talha-coder-01/AI-ML-Projects/blob/main/Github_API_Scrapper.ipynb\" target=\"_parent\"><img src=\"https://colab.research.google.com/assets/colab-badge.svg\" alt=\"Open In Colab\"/></a>"
      ]
    },
    {
      "cell_type": "code",
      "execution_count": 7,
      "metadata": {
        "colab": {
          "base_uri": "https://localhost:8080/"
        },
        "id": "WdmMmA-6Dgpu",
        "outputId": "3b1a7e5c-56de-4fa8-f02f-a0dc4db7f0a7"
      },
      "outputs": [
        {
          "output_type": "stream",
          "name": "stdout",
          "text": [
            "Data for AI-ML-Projects has been scraped and saved.\n"
          ]
        }
      ],
      "source": [
        "import requests\n",
        "import json\n",
        "import csv\n",
        "\n",
        "def github_api_scraper(repo_owner, repo_name):\n",
        "    # GitHub API endpoint\n",
        "    url = f\"https://api.github.com/repos/{repo_owner}/{repo_name}\"\n",
        "\n",
        "    # Send GET request to the API\n",
        "    response = requests.get(url)\n",
        "\n",
        "    # Check if the request was successful\n",
        "    if response.status_code == 200:\n",
        "        # Parse the JSON response\n",
        "        data = response.json()\n",
        "\n",
        "        # Extract relevant information\n",
        "        repo_info = {\n",
        "            \"name\": data[\"name\"],\n",
        "            \"description\": data[\"description\"],\n",
        "            \"stars\": data[\"stargazers_count\"],\n",
        "            \"forks\": data[\"forks_count\"],\n",
        "            \"language\": data[\"language\"]\n",
        "        }\n",
        "\n",
        "        # Save as JSON\n",
        "        with open(f\"{repo_name}_info.json\", \"w\") as json_file:\n",
        "            json.dump(repo_info, json_file, indent=4)\n",
        "\n",
        "        # Save as CSV\n",
        "        with open(f\"{repo_name}_info.csv\", \"w\", newline=\"\") as csv_file:\n",
        "            writer = csv.DictWriter(csv_file, fieldnames=repo_info.keys())\n",
        "            writer.writeheader()\n",
        "            writer.writerow(repo_info)\n",
        "\n",
        "        print(f\"Data for {repo_name} has been scraped and saved.\")\n",
        "    else:\n",
        "        print(f\"Failed to retrieve data. Status code: {response.status_code}\")\n",
        "\n",
        "# Example usage\n",
        "github_api_scraper(\"Talha-coder-01\", \"AI-ML-Projects\")"
      ]
    },
    {
      "cell_type": "code",
      "source": [],
      "metadata": {
        "id": "ccYGhMxoDhow"
      },
      "execution_count": null,
      "outputs": []
    }
  ]
}